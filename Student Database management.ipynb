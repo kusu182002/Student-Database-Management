{
 "cells": [
  {
   "cell_type": "markdown",
   "metadata": {},
   "source": [
    "# PROJECT TITLE : STUDENT DATABASE MANAGEMENT"
   ]
  },
  {
   "cell_type": "markdown",
   "metadata": {},
   "source": [
    "# PURPOSE :\n",
    "A Student Database Management System (SDMS) is designed to efficiently handle and manage student-related data within educational institutions. All student information, including personal details, academic records, attendance, and grades, is stored in a single, centralized database, making it easy to access and manage.The system can facilitate communication between students, faculty, and administration by providing platforms for notifications, announcements, and feedback."
   ]
  },
  {
   "cell_type": "markdown",
   "metadata": {},
   "source": [
    "####   Importing required libraries"
   ]
  },
  {
   "cell_type": "code",
   "execution_count": 1,
   "metadata": {},
   "outputs": [],
   "source": [
    "import mysql.connector  # Library for MySQL database connection\n",
    "import pandas as pd  # Library for data manipulation and analysis\n",
    "import matplotlib.pyplot as plt  # Library for data visualization"
   ]
  },
  {
   "cell_type": "markdown",
   "metadata": {},
   "source": [
    "#### Connecting to MySQL database"
   ]
  },
  {
   "cell_type": "code",
   "execution_count": 2,
   "metadata": {},
   "outputs": [],
   "source": [
    "# Connecting to MySQL database using mysql-connector-python\n",
    "connection = mysql.connector.connect(\n",
    "user='root',\n",
    "password='Kusuma@123',\n",
    "host='localhost',\n",
    "database='studentdatabase'\n",
    ")"
   ]
  },
  {
   "cell_type": "markdown",
   "metadata": {},
   "source": [
    "#### Importing tables from database"
   ]
  },
  {
   "cell_type": "markdown",
   "metadata": {},
   "source": [
    "#### STUDENTS TABLE"
   ]
  },
  {
   "cell_type": "code",
   "execution_count": 48,
   "metadata": {},
   "outputs": [
    {
     "name": "stdout",
     "output_type": "stream",
     "text": [
      "   student_id first_name last_name date_of_birth  gender       address  \\\n",
      "0           1       John       Doe    2000-01-15    Male   123 Main St   \n",
      "1           2       Jane     Smith    1999-05-23  Female    456 Oak St   \n",
      "2           3        Jim      Beam    2001-03-12    Male   789 Pine St   \n",
      "3           4      Alice   Johnson    2000-02-14  Female  234 Birch St   \n",
      "4           5        Bob  Williams    1998-11-11    Male  567 Cedar St   \n",
      "\n",
      "  phone_number                      email enrollment_date  department_id  \n",
      "0     555-1234      john.doe1@example.com      2018-08-20              1  \n",
      "1     555-5678    jane.smith1@example.com      2017-08-20              2  \n",
      "2     555-9101      jim.beam1@example.com      2019-08-20              3  \n",
      "3     555-6789  alice.johnson@example.com      2018-08-20              1  \n",
      "4     555-1235   bob.williams@example.com      2016-08-20              2  \n"
     ]
    }
   ],
   "source": [
    "# Create a cursor object to execute SQL queries\n",
    "cursor = connection.cursor()\n",
    "# Query data from the 'students' table\n",
    "cursor.execute('SELECT * FROM students')\n",
    "#After fetching data from the database we are storing it into Pandas DataFrame\n",
    "students_data = pd.DataFrame(cursor.fetchall(), columns=[desc[0] for desc in cursor.description])\n",
    "# Print the first few rows of the DataFrame to verify the data\n",
    "print(students_data.head())"
   ]
  },
  {
   "cell_type": "markdown",
   "metadata": {},
   "source": [
    "#### DEPARTMENTS TABLE"
   ]
  },
  {
   "cell_type": "code",
   "execution_count": 4,
   "metadata": {},
   "outputs": [
    {
     "name": "stdout",
     "output_type": "stream",
     "text": [
      "   department_id         department_name head_of_department\n",
      "0              1        Computer Science      Alice Johnson\n",
      "1              2  Electrical Engineering          Bob Smith\n",
      "2              3  Mechanical Engineering      Charlie Brown\n",
      "3              4       Civil Engineering       David Wilson\n",
      "4              5    Chemical Engineering          Eve Davis\n"
     ]
    }
   ],
   "source": [
    "# Create a cursor object to execute SQL queries\n",
    "cursor = connection.cursor()\n",
    "# Query data from the 'departments' table\n",
    "cursor.execute('SELECT * FROM departments')\n",
    "#After fetching data from the database we are storing it into Pandas DataFrame\n",
    "departments_data = pd.DataFrame(cursor.fetchall(), columns=[desc[0] for desc in cursor.description])\n",
    "# Print the first few rows of the DataFrame to verify the data\n",
    "print(departments_data.head())"
   ]
  },
  {
   "cell_type": "markdown",
   "metadata": {},
   "source": [
    "#### COURSES TABLE"
   ]
  },
  {
   "cell_type": "code",
   "execution_count": 5,
   "metadata": {},
   "outputs": [
    {
     "name": "stdout",
     "output_type": "stream",
     "text": [
      "   course_id                             course_name  \\\n",
      "0          1        Introduction to Computer Science   \n",
      "1          2          Data Structures and Algorithms   \n",
      "2          3                        Database Systems   \n",
      "3          4                        Machine Learning   \n",
      "4          5  Introduction to Electrical Engineering   \n",
      "\n",
      "                                  course_description  department_id  credits  \n",
      "0  An introduction to the fundamental concepts of...              1        3  \n",
      "1  Advanced study of data structures and algorith...              1        4  \n",
      "2  Introduction to database management systems an...              1        4  \n",
      "3  Introduction to machine learning algorithms an...              1        3  \n",
      "4  Basic principles and applications of electrica...              2        3  \n"
     ]
    }
   ],
   "source": [
    "# Create a cursor object to execute SQL queries\n",
    "cursor = connection.cursor()\n",
    "# Query data from the 'restaurant' table\n",
    "cursor.execute('SELECT * FROM courses')\n",
    "#After fetching data from the database we are storing it into Pandas DataFrame\n",
    "courses_data = pd.DataFrame(cursor.fetchall(), columns=[desc[0] for desc in cursor.description])\n",
    "# Print the first few rows of the DataFrame to verify the data\n",
    "print(courses_data.head())"
   ]
  },
  {
   "cell_type": "markdown",
   "metadata": {},
   "source": [
    "#### ENROLLMENTS TABLE"
   ]
  },
  {
   "cell_type": "code",
   "execution_count": 6,
   "metadata": {},
   "outputs": [
    {
     "name": "stdout",
     "output_type": "stream",
     "text": [
      "   enrollment_id  student_id  course_id enrollment_date\n",
      "0            223           1          1      2023-01-15\n",
      "1            224           2          2      2023-01-16\n",
      "2            225           3          3      2023-01-17\n",
      "3            226           4          4      2023-01-18\n",
      "4            227           5          5      2023-01-19\n"
     ]
    }
   ],
   "source": [
    "# Create a cursor object to execute SQL queries\n",
    "cursor = connection.cursor()\n",
    "# Query data from the 'enrollments' table\n",
    "cursor.execute('SELECT * FROM enrollments')\n",
    "#After fetching data from the database we are storing it into Pandas DataFrame\n",
    "enrollments_data = pd.DataFrame(cursor.fetchall(), columns=[desc[0] for desc in cursor.description])\n",
    "# Print the first few rows of the DataFrame to verify the data\n",
    "print(enrollments_data.head())"
   ]
  },
  {
   "cell_type": "markdown",
   "metadata": {},
   "source": [
    "#### INSTRUCTORS TABLE"
   ]
  },
  {
   "cell_type": "code",
   "execution_count": 7,
   "metadata": {},
   "outputs": [
    {
     "name": "stdout",
     "output_type": "stream",
     "text": [
      "   instructor_id first_name last_name                        email  \\\n",
      "0              1       John       Doe         john.doe@example.com   \n",
      "1              2       Jane     Smith       jane.smith@example.com   \n",
      "2              3    Michael   Johnson  michael.johnson@example.com   \n",
      "3              4      Emily     Davis      emily.davis@example.com   \n",
      "4              5      David     Brown      david.brown@example.com   \n",
      "\n",
      "  phone_number  department_id  \n",
      "0     555-1234              1  \n",
      "1     555-5678              2  \n",
      "2     555-8765              3  \n",
      "3     555-4321              4  \n",
      "4     555-3456              5  \n"
     ]
    }
   ],
   "source": [
    "# Create a cursor object to execute SQL queries\n",
    "cursor = connection.cursor()\n",
    "# Query data from the 'instructors' table\n",
    "cursor.execute('SELECT * FROM instructors')\n",
    "#After fetching data from the database we are storing it into Pandas DataFrame\n",
    "instructors_data = pd.DataFrame(cursor.fetchall(), columns=[desc[0] for desc in cursor.description])\n",
    "# Print the first few rows of the DataFrame to verify the data\n",
    "print(instructors_data.head())"
   ]
  },
  {
   "cell_type": "code",
   "execution_count": null,
   "metadata": {},
   "outputs": [],
   "source": []
  },
  {
   "cell_type": "markdown",
   "metadata": {},
   "source": [
    "#### GRADES TABLE"
   ]
  },
  {
   "cell_type": "code",
   "execution_count": 9,
   "metadata": {},
   "outputs": [
    {
     "name": "stdout",
     "output_type": "stream",
     "text": [
      "   grade_id  student_id  course_id grade date_recorded\n",
      "0         1           1          1     A    2024-01-01\n",
      "1         2           2          2     B    2024-01-02\n",
      "2         3           3          3     C    2024-01-03\n",
      "3         4           4          4     D    2024-01-04\n",
      "4         5           5          5     E    2024-01-05\n"
     ]
    }
   ],
   "source": [
    "# Create a cursor object to execute SQL queries\n",
    "cursor = connection.cursor()\n",
    "# Query data from the 'grades' table\n",
    "cursor.execute('SELECT * FROM grades')\n",
    "#After fetching data from the database we are storing it into Pandas DataFrame\n",
    "grades_data = pd.DataFrame(cursor.fetchall(), columns=[desc[0] for desc in cursor.description])\n",
    "# Print the first few rows of the DataFrame to verify the data\n",
    "print(grades_data.head())"
   ]
  },
  {
   "cell_type": "markdown",
   "metadata": {},
   "source": [
    "#### ATTENDANCE PERCENTAGE TABLE"
   ]
  },
  {
   "cell_type": "code",
   "execution_count": 10,
   "metadata": {},
   "outputs": [
    {
     "name": "stdout",
     "output_type": "stream",
     "text": [
      "   student_id attendancePercent\n",
      "0           1             87.50\n",
      "1           2             78.40\n",
      "2           3             91.20\n",
      "3           4             85.30\n",
      "4           5             88.90\n"
     ]
    }
   ],
   "source": [
    "# Create a cursor object to execute SQL queries\n",
    "cursor = connection.cursor()\n",
    "# Query data from the 'attendance' table\n",
    "cursor.execute('select * from attendancePercentage;')\n",
    "#After fetching data from the database we are storing it into Pandas DataFrame\n",
    "attendance_data = pd.DataFrame(cursor.fetchall(), columns=[desc[0] for desc in cursor.description])\n",
    "# Print the first few rows of the DataFrame to verify the data\n",
    "print(attendance_data.head())"
   ]
  },
  {
   "cell_type": "markdown",
   "metadata": {},
   "source": [
    "#### GRADE PERCENTAGE TABLE"
   ]
  },
  {
   "cell_type": "code",
   "execution_count": 11,
   "metadata": {},
   "outputs": [
    {
     "name": "stdout",
     "output_type": "stream",
     "text": [
      "   student_id gradepercent\n",
      "0           1        88.00\n",
      "1           2        75.30\n",
      "2           3        92.20\n",
      "3           4        85.50\n",
      "4           5        90.00\n"
     ]
    }
   ],
   "source": [
    "# Create a cursor object to execute SQL queries\n",
    "cursor = connection.cursor()\n",
    "# Query data from the 'attendancePercentage' table\n",
    "cursor.execute('SELECT * FROM gradePercentage')\n",
    "#After fetching data from the database we are storing it into Pandas DataFrame\n",
    "gradePercentage_data = pd.DataFrame(cursor.fetchall(), columns=[desc[0] for desc in cursor.description])\n",
    "# Print the first few rows of the DataFrame to verify the data\n",
    "print(gradePercentage_data.head())"
   ]
  },
  {
   "cell_type": "markdown",
   "metadata": {},
   "source": [
    "### CLEANING OR PROCESSING DATA"
   ]
  },
  {
   "cell_type": "markdown",
   "metadata": {},
   "source": [
    "#### CHECKING FOR NULL VALUES"
   ]
  },
  {
   "cell_type": "code",
   "execution_count": 50,
   "metadata": {},
   "outputs": [
    {
     "name": "stdout",
     "output_type": "stream",
     "text": [
      "students\n",
      "----------\n",
      "student_id         0\n",
      "first_name         0\n",
      "last_name          0\n",
      "date_of_birth      0\n",
      "gender             0\n",
      "address            0\n",
      "phone_number       0\n",
      "email              0\n",
      "enrollment_date    0\n",
      "department_id      0\n",
      "dtype: int64\n",
      "\n",
      "departments\n",
      "----------\n",
      "department_id         0\n",
      "department_name       0\n",
      "head_of_department    0\n",
      "dtype: int64\n",
      "\n",
      "courses\n",
      "----------\n",
      "course_id             0\n",
      "course_name           0\n",
      "course_description    0\n",
      "department_id         0\n",
      "credits               0\n",
      "dtype: int64\n",
      "\\enrollments\n",
      "----------\n",
      "enrollment_id      0\n",
      "student_id         0\n",
      "course_id          0\n",
      "enrollment_date    0\n",
      "dtype: int64\n",
      "\n",
      "instructorss\n",
      "----------\n",
      "instructor_id    0\n",
      "first_name       0\n",
      "last_name        0\n",
      "email            0\n",
      "phone_number     0\n",
      "department_id    0\n",
      "dtype: int64\n",
      "\n",
      "classes\n",
      "----------\n",
      "class_id         0\n",
      "course_id        0\n",
      "instructor_id    0\n",
      "semester         0\n",
      "year             0\n",
      "schedule         0\n",
      "dtype: int64\n",
      "\n",
      "grades\n",
      "----------\n",
      "grade_id         0\n",
      "student_id       0\n",
      "course_id        0\n",
      "grade            0\n",
      "date_recorded    0\n",
      "dtype: int64\n",
      "\n",
      "gradePercentage\n",
      "----------\n",
      "student_id      0\n",
      "gradepercent    0\n",
      "dtype: int64\n",
      "\n",
      "attendancePercentage\n",
      "----------\n",
      "student_id           0\n",
      "attendancePercent    0\n",
      "dtype: int64\n"
     ]
    }
   ],
   "source": [
    "# Check for missing values in the DataFrame and sum them up column-wise\n",
    "# Then print the sum of missing values for each column\n",
    "print(\"students\\n----------\")\n",
    "print(students_data.isnull().sum())\n",
    "print(\"\\ndepartments\\n----------\")\n",
    "print(departments_data.isnull().sum())\n",
    "print(\"\\ncourses\\n----------\")\n",
    "print(courses_data.isnull().sum())\n",
    "print(\"\\enrollments\\n----------\")\n",
    "print(enrollments_data.isnull().sum())\n",
    "print(\"\\ninstructorss\\n----------\")\n",
    "print(instructors_data.isnull().sum())\n",
    "print(\"\\nclasses\\n----------\")\n",
    "print(classes_data.isnull().sum())\n",
    "print(\"\\ngrades\\n----------\")\n",
    "print(grades_data.isnull().sum())\n",
    "print(\"\\ngradePercentage\\n----------\")\n",
    "print(gradePercentage_data.isnull().sum())\n",
    "print(\"\\nattendancePercentage\\n----------\")\n",
    "print(attendance_data.isnull().sum())"
   ]
  },
  {
   "cell_type": "markdown",
   "metadata": {},
   "source": [
    "#### CHECKING FOR DUPLICATE VALUES"
   ]
  },
  {
   "cell_type": "code",
   "execution_count": 53,
   "metadata": {},
   "outputs": [
    {
     "name": "stdout",
     "output_type": "stream",
     "text": [
      "students\n",
      "----------\n",
      "0\n",
      "\n",
      "departments\n",
      "----------\n",
      "0\n",
      "\n",
      "courses\n",
      "----------\n",
      "0\n",
      "\n",
      "enrollments\n",
      "----------\n",
      "0\n",
      "\n",
      "instructorss\n",
      "----------\n",
      "0\n",
      "\n",
      "classes\n",
      "----------\n",
      "0\n",
      "\n",
      "grades\n",
      "----------\n",
      "0\n",
      "\n",
      "gradePercentage\n",
      "----------\n",
      "0\n",
      "\n",
      "attendancePercentage\n",
      "----------\n",
      "0\n"
     ]
    }
   ],
   "source": [
    "# Print the number of duplicate rows in the DataFrame\n",
    "print(\"students\\n----------\")\n",
    "print(students_data.duplicated().sum())\n",
    "print(\"\\ndepartments\\n----------\")\n",
    "print(departments_data.duplicated().sum())\n",
    "print(\"\\ncourses\\n----------\")\n",
    "print(courses_data.duplicated().sum())\n",
    "print(\"\\nenrollments\\n----------\")\n",
    "print(enrollments_data.duplicated().sum())\n",
    "print(\"\\ninstructorss\\n----------\")\n",
    "print(instructors_data.duplicated().sum())\n",
    "print(\"\\nclasses\\n----------\")\n",
    "print(classes_data.duplicated().sum())\n",
    "print(\"\\ngrades\\n----------\")\n",
    "print(grades_data.duplicated().sum())\n",
    "print(\"\\ngradePercentage\\n----------\")\n",
    "print(gradePercentage_data.duplicated().sum())\n",
    "print(\"\\nattendancePercentage\\n----------\")\n",
    "print(attendance_data.duplicated().sum())"
   ]
  },
  {
   "cell_type": "markdown",
   "metadata": {},
   "source": [
    "### Visualizing the data"
   ]
  },
  {
   "cell_type": "markdown",
   "metadata": {},
   "source": [
    "####  Using group by for getting department wise student count "
   ]
  },
  {
   "cell_type": "code",
   "execution_count": 14,
   "metadata": {},
   "outputs": [
    {
     "name": "stdout",
     "output_type": "stream",
     "text": [
      "   department_id  student_count\n",
      "0              1             29\n",
      "1              2             29\n",
      "2              3             28\n",
      "3              4              8\n",
      "4              5              8\n"
     ]
    }
   ],
   "source": [
    "cursor.execute('SELECT department_id, COUNT(*) AS student_count FROM students GROUP BY department_id;')\n",
    "# Fetch the data and store it into a Pandas DataFrame\n",
    "studentCount_data = pd.DataFrame(cursor.fetchall(), columns=[desc[0] for desc in cursor.description])\n",
    "\n",
    "# Convert DataFrame to a DataFrame object\n",
    "studentCount_data = pd.DataFrame(studentCount_data)\n",
    "print(studentCount_data)"
   ]
  },
  {
   "cell_type": "code",
   "execution_count": 41,
   "metadata": {},
   "outputs": [
    {
     "data": {
      "image/png": "[encoded data removed]",
      "text/plain": [
       "<Figure size 720x432 with 1 Axes>"
      ]
     },
     "metadata": {
      "needs_background": "light"
     },
     "output_type": "display_data"
    }
   ],
   "source": [
    "plt.figure(figsize=(10, 6))\n",
    "plt.bar(studentCount_data['department_id'], studentCount_data['student_count'], color='skyblue')\n",
    "plt.xlabel('Department ID')\n",
    "plt.ylabel('Student Count')\n",
    "plt.title('Student Count per Department')\n",
    "plt.xticks(studentCount_data['department_id'], rotation=0)\n",
    "plt.tight_layout()\n",
    "plt.show()"
   ]
  },
  {
   "cell_type": "markdown",
   "metadata": {},
   "source": [
    "From above graph we can say that DepartmentId with 1(Computer Science) is having more number of students and less number of students in department 5(Chemical Engineering)."
   ]
  },
  {
   "cell_type": "markdown",
   "metadata": {},
   "source": [
    "#### Department wise courses count"
   ]
  },
  {
   "cell_type": "code",
   "execution_count": 15,
   "metadata": {},
   "outputs": [
    {
     "name": "stdout",
     "output_type": "stream",
     "text": [
      "   department_id  course_count\n",
      "0              1             4\n",
      "1              2             4\n",
      "2              3             4\n",
      "3              4             4\n",
      "4              5             4\n",
      "5              6             4\n"
     ]
    }
   ],
   "source": [
    "cursor.execute('SELECT department_id, COUNT(*) AS course_count FROM courses GROUP BY department_id;')\n",
    "# Fetch the data and store it into a Pandas DataFrame\n",
    "courseCount_data = pd.DataFrame(cursor.fetchall(), columns=[desc[0] for desc in cursor.description])\n",
    "\n",
    "# Convert DataFrame to a DataFrame object\n",
    "courseCount_data = pd.DataFrame(courseCount_data)\n",
    "print(courseCount_data)"
   ]
  },
  {
   "cell_type": "code",
   "execution_count": 44,
   "metadata": {},
   "outputs": [
    {
     "data": {
      "image/png": "[encoded data removed]",
      "text/plain": [
       "<Figure size 576x432 with 1 Axes>"
      ]
     },
     "metadata": {},
     "output_type": "display_data"
    }
   ],
   "source": [
    "# Assuming courseCount_data is already fetched and stored in DataFrame\n",
    "labels = courseCount_data['department_id']\n",
    "sizes = courseCount_data['course_count']\n",
    "\n",
    "# Plotting the pie chart\n",
    "plt.figure(figsize=(8, 6))\n",
    "plt.pie(sizes, labels=labels, autopct='%1.1f%%', startangle=140)\n",
    "plt.title('Distribution of Courses by Department')\n",
    "plt.axis('equal')  # Equal aspect ratio ensures the pie chart is circular.\n",
    "plt.show()"
   ]
  },
  {
   "cell_type": "markdown",
   "metadata": {},
   "source": [
    "From the above pie chart it is very clear that each department is having same number of courses i.e., 4"
   ]
  },
  {
   "cell_type": "markdown",
   "metadata": {},
   "source": [
    "#### average credits for each course"
   ]
  },
  {
   "cell_type": "code",
   "execution_count": 16,
   "metadata": {},
   "outputs": [
    {
     "name": "stdout",
     "output_type": "stream",
     "text": [
      "    course_id                             course_name avg(credits)\n",
      "0           1        Introduction to Computer Science       3.0000\n",
      "1           2          Data Structures and Algorithms       4.0000\n",
      "2           3                        Database Systems       4.0000\n",
      "3           4                        Machine Learning       3.0000\n",
      "4           5  Introduction to Electrical Engineering       3.0000\n",
      "5           6                        Circuit Analysis       4.0000\n",
      "6           7               Digital Signal Processing       4.0000\n",
      "7           8                           Power Systems       3.0000\n",
      "8           9  Introduction to Mechanical Engineering       3.0000\n",
      "9          10                         Fluid Mechanics       4.0000\n",
      "10         11                       Mechanical Design       4.0000\n",
      "11         12                          Thermodynamics       3.0000\n",
      "12         13       Introduction to Civil Engineering       3.0000\n",
      "13         14                     Structural Analysis       4.0000\n",
      "14         15              Transportation Engineering       4.0000\n",
      "15         16               Environmental Engineering       3.0000\n",
      "16         17    Introduction to Chemical Engineering       3.0000\n",
      "17         18           Chemical Reaction Engineering       4.0000\n",
      "18         19                         Process Control       4.0000\n",
      "19         20                 Biochemical Engineering       3.0000\n",
      "20         21   Introduction to Environmental Science       3.0000\n",
      "21         22                                 Ecology       4.0000\n",
      "22         23       Climate Change and Sustainability       4.0000\n",
      "23         24            Environmental Policy and Law       3.0000\n"
     ]
    }
   ],
   "source": [
    "cursor.execute('select course_id,course_name,avg(credits) from courses group by course_id; ')\n",
    "# Fetch the data and store it into a Pandas DataFrame\n",
    "avgCredits_data = pd.DataFrame(cursor.fetchall(), columns=[desc[0] for desc in cursor.description])\n",
    "\n",
    "# Convert DataFrame to a DataFrame object\n",
    "avgCredits_data = pd.DataFrame(avgCredits_data)\n",
    "print(avgCredits_data)"
   ]
  },
  {
   "cell_type": "markdown",
   "metadata": {},
   "source": [
    "#### Number of students enrolled in each course"
   ]
  },
  {
   "cell_type": "code",
   "execution_count": 17,
   "metadata": {},
   "outputs": [
    {
     "name": "stdout",
     "output_type": "stream",
     "text": [
      "    course_id  enrollment_count\n",
      "0           1                 5\n",
      "1           2                 5\n",
      "2           3                 5\n",
      "3           4                 5\n",
      "4           5                 5\n",
      "5           6                 5\n",
      "6           7                 4\n",
      "7           8                 4\n",
      "8           9                 4\n",
      "9          10                 4\n",
      "10         11                 4\n",
      "11         12                 4\n",
      "12         13                 4\n",
      "13         14                 4\n",
      "14         15                 4\n",
      "15         16                 4\n",
      "16         17                 4\n",
      "17         18                 4\n",
      "18         19                 4\n",
      "19         20                 4\n",
      "20         21                 4\n",
      "21         22                 4\n",
      "22         23                 4\n",
      "23         24                 4\n"
     ]
    }
   ],
   "source": [
    "cursor.execute('SELECT course_id, COUNT(*) AS enrollment_count FROM enrollments GROUP BY course_id; ')\n",
    "# Fetch the data and store it into a Pandas DataFrame\n",
    "coursesEnrolledCount_data = pd.DataFrame(cursor.fetchall(), columns=[desc[0] for desc in cursor.description])\n",
    "\n",
    "# Convert DataFrame to a DataFrame object\n",
    "coursesEnrolledCount_data = pd.DataFrame(coursesEnrolledCount_data)\n",
    "print(coursesEnrolledCount_data)"
   ]
  },
  {
   "cell_type": "code",
   "execution_count": 45,
   "metadata": {},
   "outputs": [
    {
     "data": {
      "image/png": "[encoded data removed]",
      "text/plain": [
       "<Figure size 720x576 with 1 Axes>"
      ]
     },
     "metadata": {},
     "output_type": "display_data"
    }
   ],
   "source": [
    "# Plotting the pie chart\n",
    "plt.figure(figsize=(10, 8))\n",
    "plt.pie(coursesEnrolledCount_data['enrollment_count'], labels=coursesEnrolledCount_data['course_id'], autopct='%1.1f%%', startangle=140)\n",
    "plt.title('Course Enrollment Distribution')\n",
    "plt.show()"
   ]
  },
  {
   "cell_type": "markdown",
   "metadata": {},
   "source": [
    "From above we can say that in courses with id's 1,2,3,4,5,6 are being enrolled more."
   ]
  },
  {
   "cell_type": "code",
   "execution_count": 18,
   "metadata": {},
   "outputs": [
    {
     "name": "stdout",
     "output_type": "stream",
     "text": [
      "   department_id  instructor_count\n",
      "0              1                 3\n",
      "1              2                 3\n",
      "2              3                 3\n",
      "3              4                 2\n",
      "4              5                 2\n",
      "5              6                 2\n"
     ]
    }
   ],
   "source": [
    "cursor.execute('SELECT department_id, COUNT(*) AS instructor_count FROM instructors GROUP BY department_id;')\n",
    "# Fetch the data and store it into a Pandas DataFrame\n",
    "instPerDept_data = pd.DataFrame(cursor.fetchall(), columns=[desc[0] for desc in cursor.description])\n",
    "\n",
    "# Convert DataFrame to a DataFrame object\n",
    "instPerDept_data = pd.DataFrame(instPerDept_data)\n",
    "print(instPerDept_data)"
   ]
  },
  {
   "cell_type": "markdown",
   "metadata": {},
   "source": [
    "#### Number of classes thought by each instructor"
   ]
  },
  {
   "cell_type": "code",
   "execution_count": 19,
   "metadata": {},
   "outputs": [
    {
     "name": "stdout",
     "output_type": "stream",
     "text": [
      "    instructor_id first_name last_name  classes_taught\n",
      "0               1       John       Doe               5\n",
      "1               2       Jane     Smith               5\n",
      "2               3    Michael   Johnson               5\n",
      "3               4      Emily     Davis               5\n",
      "4               5      David     Brown               5\n",
      "5               6       Emma    Wilson               4\n",
      "6               7      Chris    Taylor               4\n",
      "7               8     Sophia  Anderson               4\n",
      "8               9      James    Thomas               4\n",
      "9              10     Olivia     Moore               4\n",
      "10             11     Robert   Jackson               4\n",
      "11             12        Ava    Martin               4\n",
      "12             13    William       Lee               4\n",
      "13             14   Isabella     Perez               4\n",
      "14             15   Benjamin    Harris               4\n"
     ]
    }
   ],
   "source": [
    "cursor.execute('SELECT i.instructor_id, i.first_name, i.last_name, COUNT(c.class_id) AS classes_taught FROM instructors i LEFT JOIN classes c ON i.instructor_id = c.instructor_id GROUP BY i.instructor_id, i.first_name, i.last_name ORDER BY i.instructor_id;')\n",
    "# Fetch the data and store it into a Pandas DataFrame\n",
    "countOfClaByInst_data = pd.DataFrame(cursor.fetchall(), columns=[desc[0] for desc in cursor.description])\n",
    "\n",
    "# Convert DataFrame to a DataFrame object\n",
    "countOfClaByInst_data = pd.DataFrame(countOfClaByInst_data)\n",
    "print(countOfClaByInst_data)"
   ]
  },
  {
   "cell_type": "markdown",
   "metadata": {},
   "source": [
    "#### Number of students enrolled in each department"
   ]
  },
  {
   "cell_type": "code",
   "execution_count": 20,
   "metadata": {},
   "outputs": [
    {
     "name": "stdout",
     "output_type": "stream",
     "text": [
      "          department_name  enrollment_count\n",
      "0        Computer Science                20\n",
      "1  Electrical Engineering                18\n",
      "2  Mechanical Engineering                16\n",
      "3       Civil Engineering                16\n",
      "4    Chemical Engineering                16\n",
      "5   Environmental Science                16\n"
     ]
    }
   ],
   "source": [
    "cursor.execute('SELECT d.department_name, COUNT(*) AS enrollment_count FROM enrollments e JOIN courses c ON e.course_id = c.course_id JOIN departments d ON c.department_id = d.department_id GROUP BY d.department_name ORDER BY enrollment_count DESC;')\n",
    "# Fetch the data and store it into a Pandas DataFrame\n",
    "enrolCountPerDep_data = pd.DataFrame(cursor.fetchall(), columns=[desc[0] for desc in cursor.description])\n",
    "\n",
    "# Convert DataFrame to a DataFrame object\n",
    "enrolCountPerDep_data = pd.DataFrame(enrolCountPerDep_data)\n",
    "print(enrolCountPerDep_data)"
   ]
  },
  {
   "cell_type": "markdown",
   "metadata": {},
   "source": [
    "#### Department wise average credits"
   ]
  },
  {
   "cell_type": "code",
   "execution_count": 55,
   "metadata": {},
   "outputs": [
    {
     "name": "stdout",
     "output_type": "stream",
     "text": [
      "          department_name average_credits\n",
      "0    Chemical Engineering          3.5000\n",
      "1       Civil Engineering          3.5000\n",
      "2        Computer Science          3.5000\n",
      "3  Electrical Engineering          3.5000\n",
      "4   Environmental Science          3.5000\n",
      "5  Mechanical Engineering          3.5000\n"
     ]
    }
   ],
   "source": [
    "cursor.execute('SELECT d.department_name, AVG(c.credits) AS average_credits FROM courses c JOIN departments d ON c.department_id = d.department_id GROUP BY d.department_name ORDER BY d.department_name; ')\n",
    "# Fetch the data and store it into a Pandas DataFrame\n",
    "avgCreditsDept_data = pd.DataFrame(cursor.fetchall(), columns=[desc[0] for desc in cursor.description])\n",
    "\n",
    "# Convert DataFrame to a DataFrame object\n",
    "avgCreditsDept_data = pd.DataFrame(avgCreditsDept_data)\n",
    "print(avgCreditsDept_data)"
   ]
  },
  {
   "cell_type": "markdown",
   "metadata": {},
   "source": [
    "#### Department wise average of scored grades"
   ]
  },
  {
   "cell_type": "code",
   "execution_count": 21,
   "metadata": {},
   "outputs": [
    {
     "name": "stdout",
     "output_type": "stream",
     "text": [
      "          department_name average_grade\n",
      "0   Environmental Science        2.1250\n",
      "1    Chemical Engineering        2.0625\n",
      "2  Electrical Engineering        2.0556\n",
      "3        Computer Science        2.0000\n",
      "4       Civil Engineering        2.0000\n",
      "5  Mechanical Engineering        1.9375\n"
     ]
    }
   ],
   "source": [
    "cursor.execute(\"SELECT d.department_name, AVG(CASE WHEN g.grade = 'A' THEN 4 WHEN g.grade = 'B' THEN 3 WHEN g.grade = 'C' THEN 2 WHEN g.grade = 'D' THEN 1 WHEN g.grade = 'E' THEN 0 ELSE NULL END) AS average_grade FROM grades g JOIN courses c ON g.course_id = c.course_id JOIN departments d ON c.department_id = d.department_id GROUP BY d.department_name ORDER BY average_grade DESC;\")\n",
    "# Fetch the data and store it into a Pandas DataFrame\n",
    "depAvgGra_data = pd.DataFrame(cursor.fetchall(), columns=[desc[0] for desc in cursor.description])\n",
    "\n",
    "# Print the DataFrame\n",
    "print(depAvgGra_data)\n"
   ]
  },
  {
   "cell_type": "code",
   "execution_count": 42,
   "metadata": {},
   "outputs": [
    {
     "data": {
      "image/png": "[encoded data removed]",
      "text/plain": [
       "<Figure size 720x432 with 1 Axes>"
      ]
     },
     "metadata": {
      "needs_background": "light"
     },
     "output_type": "display_data"
    }
   ],
   "source": [
    "# Convert the department names and average grades to lists for plotting\n",
    "departments = depAvgGra_data['department_name'].tolist()\n",
    "average_grades = depAvgGra_data['average_grade'].tolist()\n",
    "\n",
    "# Create a line plot\n",
    "plt.figure(figsize=(10, 6))\n",
    "plt.plot(departments, average_grades, marker='o', linestyle='-', color='b', label='Average Grade')\n",
    "\n",
    "# Add titles and labels\n",
    "plt.title('Average Grades Across Departments')\n",
    "plt.xlabel('Department')\n",
    "plt.ylabel('Average Grade')\n",
    "plt.xticks(rotation=45, ha='right')  # Rotate department names for better readability\n",
    "plt.legend()\n",
    "plt.grid(True)\n",
    "plt.tight_layout()\n",
    "\n",
    "# Display the plot\n",
    "plt.show()"
   ]
  },
  {
   "cell_type": "markdown",
   "metadata": {},
   "source": [
    "Above graph is clearly showing that the students from Environmental Science are securing higher grades and the students from mechanical engineering are scoring less grade."
   ]
  },
  {
   "cell_type": "markdown",
   "metadata": {},
   "source": [
    "#### Month and year wise enrollment count"
   ]
  },
  {
   "cell_type": "code",
   "execution_count": 22,
   "metadata": {},
   "outputs": [
    {
     "name": "stdout",
     "output_type": "stream",
     "text": [
      "   enrollment_year  enrollment_month  enrollment_count\n",
      "0             2023                 1                17\n",
      "1             2023                 2                28\n",
      "2             2023                 3                31\n",
      "3             2023                 4                26\n"
     ]
    }
   ],
   "source": [
    "cursor.execute(\"SELECT YEAR(enrollment_date) AS enrollment_year, MONTH(enrollment_date) AS enrollment_month, COUNT(*) AS enrollment_count FROM enrollments GROUP BY enrollment_year, enrollment_month ORDER BY enrollment_year, enrollment_month;\")\n",
    "# Fetch the data and store it into a Pandas DataFrame\n",
    "monEnro_data = pd.DataFrame(cursor.fetchall(), columns=[desc[0] for desc in cursor.description])\n",
    "\n",
    "# Print the DataFrame\n",
    "print(monEnro_data)\n"
   ]
  },
  {
   "cell_type": "code",
   "execution_count": 43,
   "metadata": {},
   "outputs": [
    {
     "data": {
      "image/png": "[encoded data removed]",
      "text/plain": [
       "<Figure size 720x432 with 1 Axes>"
      ]
     },
     "metadata": {
      "needs_background": "light"
     },
     "output_type": "display_data"
    }
   ],
   "source": [
    "# Convert fetched data to a pandas DataFrame\n",
    "columns = ['enrollment_year', 'enrollment_month', 'enrollment_count']\n",
    "enrollment_df = pd.DataFrame(monEnro_data, columns=columns)\n",
    "\n",
    "# Plotting the data\n",
    "plt.figure(figsize=(10, 6))\n",
    "plt.plot(enrollment_df['enrollment_year'].astype(str) + '-' + enrollment_df['enrollment_month'].astype(str).str.zfill(2), enrollment_df['enrollment_count'], marker='o', linestyle='-')\n",
    "plt.title('Enrollment Trends over Months/Years')\n",
    "plt.xlabel('Date')\n",
    "plt.ylabel('Enrollment Count')\n",
    "plt.xticks(rotation=45)\n",
    "plt.grid(True)\n",
    "plt.tight_layout()\n",
    "\n",
    "# Display the plot\n",
    "plt.show()"
   ]
  },
  {
   "cell_type": "markdown",
   "metadata": {},
   "source": [
    "From this observation we can say that in the month of march we are having more enrollment count. "
   ]
  },
  {
   "cell_type": "markdown",
   "metadata": {},
   "source": [
    "#### Student count per department"
   ]
  },
  {
   "cell_type": "code",
   "execution_count": 25,
   "metadata": {},
   "outputs": [
    {
     "data": {
      "image/png": "[encoded data removed]",
      "text/plain": [
       "<Figure size 720x432 with 1 Axes>"
      ]
     },
     "metadata": {
      "needs_background": "light"
     },
     "output_type": "display_data"
    }
   ],
   "source": [
    "plt.figure(figsize=(10, 6))\n",
    "plt.bar(studentCount_data['department_id'], studentCount_data['student_count'], color='skyblue')\n",
    "plt.xlabel('Department ID')\n",
    "plt.ylabel('Student Count')\n",
    "plt.title('Student Count per Department')\n",
    "plt.xticks(studentCount_data['department_id'], rotation=0)\n",
    "plt.tight_layout()\n",
    "plt.show()"
   ]
  },
  {
   "cell_type": "markdown",
   "metadata": {},
   "source": [
    "More number of students are in department 1 and less number of students in department 5"
   ]
  },
  {
   "cell_type": "markdown",
   "metadata": {},
   "source": [
    "#### Comparing attendance and grade percentage"
   ]
  },
  {
   "cell_type": "code",
   "execution_count": 56,
   "metadata": {},
   "outputs": [
    {
     "name": "stdout",
     "output_type": "stream",
     "text": [
      "   student_id gradePercent attendancePercent\n",
      "0           1        88.00             87.50\n",
      "1           2        75.30             78.40\n",
      "2           3        92.20             91.20\n",
      "3           4        85.50             85.30\n",
      "4           5        90.00             88.90\n",
      "5           6        95.30             92.00\n",
      "6           7        72.50             76.50\n",
      "7           8        86.90             84.10\n",
      "8           9        95.00             90.00\n",
      "9          10        76.80             79.80\n"
     ]
    }
   ],
   "source": [
    "cursor.execute(\"SELECT gp.student_id, gp.gradePercent, ap.attendancePercent FROM gradePercentage gp JOIN attendancePercentage ap ON gp.student_id = ap.student_id;\")\n",
    "# Fetch the data and store it into a Pandas DataFrame\n",
    "attenVsGra_data = pd.DataFrame(cursor.fetchall(), columns=[desc[0] for desc in cursor.description])\n",
    "\n",
    "# Print the DataFrame\n",
    "print(attenVsGra_data.head(10))\n"
   ]
  },
  {
   "cell_type": "code",
   "execution_count": 38,
   "metadata": {},
   "outputs": [
    {
     "data": {
      "image/png": "[encoded data removed]",
      "text/plain": [
       "<Figure size 720x432 with 1 Axes>"
      ]
     },
     "metadata": {
      "needs_background": "light"
     },
     "output_type": "display_data"
    }
   ],
   "source": [
    "attenVsGra_data= attenVsGra_data.head(10)\n",
    "plt.figure(figsize=(10, 6))\n",
    "plt.scatter(attenVsGra_data['attendancePercent'], attenVsGra_data['gradePercent'], marker='o', linestyle='-', color='b')\n",
    "plt.title('Attendance Percent vs Grade Percent (First 10 Records)')\n",
    "plt.xlabel('Attendance Percent')\n",
    "plt.ylabel('Grade Percent')\n",
    "plt.grid(True)\n",
    "\n",
    "# Setting x and y limits with a difference of 10\n",
    "plt.xlim(70, 100)\n",
    "plt.ylim(70, 100)\n",
    "\n",
    "plt.show()\n",
    "\n",
    "\n",
    "\n",
    "\n",
    "\n",
    "\n"
   ]
  },
  {
   "cell_type": "markdown",
   "metadata": {},
   "source": [
    "## CONCLUSION\n",
    "From above graph we can say that the attendance percent and grade percent are almost proportional to each other that is the students who are good attendance are scoring good grade percent."
   ]
  },
  {
   "cell_type": "code",
   "execution_count": null,
   "metadata": {},
   "outputs": [],
   "source": []
  }
 ],
 "metadata": {
  "kernelspec": {
   "display_name": "Python 3",
   "language": "python",
   "name": "python3"
  },
  "language_info": {
   "codemirror_mode": {
    "name": "ipython",
    "version": 3
   },
   "file_extension": ".py",
   "mimetype": "text/x-python",
   "name": "python",
   "nbconvert_exporter": "python",
   "pygments_lexer": "ipython3",
   "version": "3.7.6"
  }
 },
 "nbformat": 4,
 "nbformat_minor": 4
}
