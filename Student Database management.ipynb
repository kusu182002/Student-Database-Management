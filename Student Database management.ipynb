{
 "cells": [
  {
   "cell_type": "markdown",
   "metadata": {},
   "source": [
    "# PROJECT TITLE : STUDENT DATABASE MANAGEMENT"
   ]
  },
  {
   "cell_type": "markdown",
   "metadata": {},
   "source": [
    "# PURPOSE :\n",
    "A Student Database Management System (SDMS) is designed to efficiently handle and manage student-related data within educational institutions. All student information, including personal details, academic records, attendance, and grades, is stored in a single, centralized database, making it easy to access and manage.The system can facilitate communication between students, faculty, and administration by providing platforms for notifications, announcements, and feedback."
   ]
  },
  {
   "cell_type": "markdown",
   "metadata": {},
   "source": [
    "####   Importing required libraries"
   ]
  },
  {
   "cell_type": "code",
   "execution_count": 2,
   "metadata": {},
   "outputs": [],
   "source": [
    "import mysql.connector  # Library for MySQL database connection\n",
    "import pandas as pd  # Library for data manipulation and analysis\n",
    "import matplotlib.pyplot as plt  # Library for data visualization"
   ]
  },
  {
   "cell_type": "markdown",
   "metadata": {},
   "source": [
    "#### Connecting to MySQL database"
   ]
  },
  {
   "cell_type": "code",
   "execution_count": 3,
   "metadata": {},
   "outputs": [],
   "source": [
    "# Connecting to MySQL database using mysql-connector-python\n",
    "connection = mysql.connector.connect(\n",
    "user='root',\n",
    "password='Kusuma@123',\n",
    "host='localhost',\n",
    "database='studentdatabasemanagement'\n",
    ")"
   ]
  },
  {
   "cell_type": "markdown",
   "metadata": {},
   "source": [
    "#### Importing tables from database"
   ]
  },
  {
   "cell_type": "markdown",
   "metadata": {},
   "source": [
    "#### STUDENTS TABLE"
   ]
  },
  {
   "cell_type": "code",
   "execution_count": 4,
   "metadata": {},
   "outputs": [
    {
     "name": "stdout",
     "output_type": "stream",
     "text": [
      "   student_id first_name last_name date_of_birth  gender  \\\n",
      "0           1     Ananya   Agarwal    2000-05-15  Female   \n",
      "1           2      Aarav      Bhat    2001-08-20    Male   \n",
      "2           3      Aditi    Chopra    1999-03-10  Female   \n",
      "3           4       Amit  Deshmukh    2000-07-25    Male   \n",
      "4           5  Aishwarya     Gupta    2002-01-05  Female   \n",
      "\n",
      "                   address   phone_number                        email  \\\n",
      "0   123 Main St, Cityville  +919876543210   ananya.agarwal@example.com   \n",
      "1   456 Elm St, Townsville  +919012345678       aarav.bhat@example.com   \n",
      "2   789 Oak St, Villageton  +919876543210     aditi.chopra@example.com   \n",
      "3      321 Pine St, Hamlet  +918765432109    amit.deshmukh@example.com   \n",
      "4  654 Cedar St, Riverside  +919012345678  aishwarya.gupta@example.com   \n",
      "\n",
      "  enrollment_date  department_id  attendance_percent  grade_percent  \n",
      "0      2022-09-01              1                89.5           75.0  \n",
      "1      2022-09-01              2                92.0           85.5  \n",
      "2      2022-09-01              1                85.5           80.5  \n",
      "3      2022-09-01              3                88.0           78.0  \n",
      "4      2022-09-01              2                91.0           82.5  \n"
     ]
    }
   ],
   "source": [
    "# Create a cursor object to execute SQL queries\n",
    "cursor = connection.cursor()\n",
    "# Query data from the 'students' table\n",
    "cursor.execute('SELECT * FROM students')\n",
    "#After fetching data from the database we are storing it into Pandas DataFrame\n",
    "students_data = pd.DataFrame(cursor.fetchall(), columns=[desc[0] for desc in cursor.description])\n",
    "# Print the first few rows of the DataFrame to verify the data\n",
    "print(students_data.head())"
   ]
  },
  {
   "cell_type": "code",
   "execution_count": null,
   "metadata": {},
   "outputs": [],
   "source": []
  },
  {
   "cell_type": "markdown",
   "metadata": {},
   "source": [
    "#### DEPARTMENTS TABLE"
   ]
  },
  {
   "cell_type": "code",
   "execution_count": 5,
   "metadata": {},
   "outputs": [
    {
     "name": "stdout",
     "output_type": "stream",
     "text": [
      "   department_id          department_name head_of_department\n",
      "0              1         Computer Science      Alice Johnson\n",
      "1              2  Electronics Engineering         Jack Clark\n",
      "2              3   Electrical Engineering          Bob Smith\n",
      "3              4   Mechanical Engineering      Charlie Brown\n",
      "4              5        Civil Engineering       David Wilson\n"
     ]
    }
   ],
   "source": [
    "# Create a cursor object to execute SQL queries\n",
    "cursor = connection.cursor()\n",
    "# Query data from the 'departments' table\n",
    "cursor.execute('SELECT * FROM departments')\n",
    "#After fetching data from the database we are storing it into Pandas DataFrame\n",
    "departments_data = pd.DataFrame(cursor.fetchall(), columns=[desc[0] for desc in cursor.description])\n",
    "# Print the first few rows of the DataFrame to verify the data\n",
    "print(departments_data.head())"
   ]
  },
  {
   "cell_type": "markdown",
   "metadata": {},
   "source": [
    "#### COURSES TABLE"
   ]
  },
  {
   "cell_type": "code",
   "execution_count": 6,
   "metadata": {},
   "outputs": [
    {
     "name": "stdout",
     "output_type": "stream",
     "text": [
      "   course_id                       course_name  department_id  credits\n",
      "0          1  Introduction to Computer Science              1        4\n",
      "1          2    Data Structures and Algorithms              1        5\n",
      "2          3       Database Management Systems              1        4\n",
      "3          4                 Computer Networks              1        4\n",
      "4          5           Artificial Intelligence              1        5\n"
     ]
    }
   ],
   "source": [
    "# Create a cursor object to execute SQL queries\n",
    "cursor = connection.cursor()\n",
    "# Query data from the 'restaurant' table\n",
    "cursor.execute('SELECT * FROM courses')\n",
    "#After fetching data from the database we are storing it into Pandas DataFrame\n",
    "courses_data = pd.DataFrame(cursor.fetchall(), columns=[desc[0] for desc in cursor.description])\n",
    "# Print the first few rows of the DataFrame to verify the data\n",
    "print(courses_data.head())"
   ]
  },
  {
   "cell_type": "markdown",
   "metadata": {},
   "source": [
    "#### INSTRUCTORS TABLE"
   ]
  },
  {
   "cell_type": "code",
   "execution_count": 7,
   "metadata": {},
   "outputs": [
    {
     "name": "stdout",
     "output_type": "stream",
     "text": [
      "   instructor_id first_name last_name                     email  phone_number  \\\n",
      "0              1      Rahul    Sharma  rahul.sharma@example.com  123-456-7890   \n",
      "1              2      Priya     Patel   priya.patel@example.com  987-654-3210   \n",
      "2              3       Amit     Verma    amit.verma@example.com  456-789-0123   \n",
      "3              4       Neha     Singh    neha.singh@example.com  111-222-3333   \n",
      "4              5     Rajesh     Yadav  rajesh.yadav@example.com  444-555-6666   \n",
      "\n",
      "   department_id  \n",
      "0              1  \n",
      "1              1  \n",
      "2              1  \n",
      "3              2  \n",
      "4              2  \n"
     ]
    }
   ],
   "source": [
    "# Create a cursor object to execute SQL queries\n",
    "cursor = connection.cursor()\n",
    "# Query data from the 'instructors' table\n",
    "cursor.execute('SELECT * FROM instructors')\n",
    "#After fetching data from the database we are storing it into Pandas DataFrame\n",
    "instructors_data = pd.DataFrame(cursor.fetchall(), columns=[desc[0] for desc in cursor.description])\n",
    "# Print the first few rows of the DataFrame to verify the data\n",
    "print(instructors_data.head())"
   ]
  },
  {
   "cell_type": "markdown",
   "metadata": {},
   "source": [
    "#### ENROLLMENTS TABLE"
   ]
  },
  {
   "cell_type": "code",
   "execution_count": 8,
   "metadata": {},
   "outputs": [
    {
     "name": "stdout",
     "output_type": "stream",
     "text": [
      "   enrollment_id  student_id  course_id enrollment_date\n",
      "0              1           1          1      2023-01-01\n",
      "1              2           2          2      2023-01-02\n",
      "2              3           3          3      2023-01-03\n",
      "3              4           4          4      2023-01-04\n",
      "4              5           5          5      2023-01-05\n"
     ]
    }
   ],
   "source": [
    "# Create a cursor object to execute SQL queries\n",
    "cursor = connection.cursor()\n",
    "# Query data from the 'instructors' table\n",
    "cursor.execute('SELECT * FROM enrollments')\n",
    "#After fetching data from the database we are storing it into Pandas DataFrame\n",
    "enrollments_data = pd.DataFrame(cursor.fetchall(), columns=[desc[0] for desc in cursor.description])\n",
    "# Print the first few rows of the DataFrame to verify the data\n",
    "print(enrollments_data.head())"
   ]
  },
  {
   "cell_type": "markdown",
   "metadata": {},
   "source": [
    "### CLEANING OR PROCESSING DATA"
   ]
  },
  {
   "cell_type": "markdown",
   "metadata": {},
   "source": [
    "#### CHECKING FOR NULL VALUES"
   ]
  },
  {
   "cell_type": "code",
   "execution_count": 9,
   "metadata": {},
   "outputs": [
    {
     "name": "stdout",
     "output_type": "stream",
     "text": [
      "students\n",
      "----------\n",
      "student_id            0\n",
      "first_name            0\n",
      "last_name             0\n",
      "date_of_birth         0\n",
      "gender                0\n",
      "address               0\n",
      "phone_number          0\n",
      "email                 0\n",
      "enrollment_date       0\n",
      "department_id         0\n",
      "attendance_percent    0\n",
      "grade_percent         0\n",
      "dtype: int64\n",
      "\n",
      "departments\n",
      "----------\n",
      "department_id         0\n",
      "department_name       0\n",
      "head_of_department    0\n",
      "dtype: int64\n",
      "\n",
      "courses\n",
      "----------\n",
      "course_id        0\n",
      "course_name      0\n",
      "department_id    0\n",
      "credits          0\n",
      "dtype: int64\n",
      "\n",
      "instructorss\n",
      "----------\n",
      "instructor_id    0\n",
      "first_name       0\n",
      "last_name        0\n",
      "email            0\n",
      "phone_number     0\n",
      "department_id    0\n",
      "dtype: int64\n",
      "\n",
      "enrollments\n",
      "----------\n",
      "enrollment_id      0\n",
      "student_id         0\n",
      "course_id          0\n",
      "enrollment_date    0\n",
      "dtype: int64\n"
     ]
    }
   ],
   "source": [
    "# Check for missing values in the DataFrame and sum them up column-wise\n",
    "# Then print the sum of missing values for each column\n",
    "print(\"students\\n----------\")\n",
    "print(students_data.isnull().sum())\n",
    "print(\"\\ndepartments\\n----------\")\n",
    "print(departments_data.isnull().sum())\n",
    "print(\"\\ncourses\\n----------\")\n",
    "print(courses_data.isnull().sum())\n",
    "print(\"\\ninstructorss\\n----------\")\n",
    "print(instructors_data.isnull().sum())\n",
    "print(\"\\nenrollments\\n----------\")\n",
    "print(enrollments_data.isnull().sum())"
   ]
  },
  {
   "cell_type": "markdown",
   "metadata": {},
   "source": [
    "Indicating there are no null values."
   ]
  },
  {
   "cell_type": "markdown",
   "metadata": {},
   "source": [
    "#### CHECKING FOR DUPLICATE VALUES"
   ]
  },
  {
   "cell_type": "code",
   "execution_count": 10,
   "metadata": {},
   "outputs": [
    {
     "name": "stdout",
     "output_type": "stream",
     "text": [
      "students\n",
      "----------\n",
      "0\n",
      "\n",
      "departments\n",
      "----------\n",
      "0\n",
      "\n",
      "courses\n",
      "----------\n",
      "0\n",
      "\n",
      "instructors\n",
      "----------\n",
      "0\n",
      "\n",
      "enrollments\n",
      "----------\n",
      "0\n"
     ]
    }
   ],
   "source": [
    "# Print the number of duplicate rows in the DataFrame\n",
    "print(\"students\\n----------\")\n",
    "print(students_data.duplicated().sum())\n",
    "print(\"\\ndepartments\\n----------\")\n",
    "print(departments_data.duplicated().sum())\n",
    "print(\"\\ncourses\\n----------\")\n",
    "print(courses_data.duplicated().sum())\n",
    "print(\"\\ninstructors\\n----------\")\n",
    "print(instructors_data.duplicated().sum())\n",
    "print(\"\\nenrollments\\n----------\")\n",
    "print(enrollments_data.duplicated().sum())"
   ]
  },
  {
   "cell_type": "markdown",
   "metadata": {},
   "source": [
    "Indicating there are no any duplicate values."
   ]
  },
  {
   "cell_type": "markdown",
   "metadata": {},
   "source": [
    "### Visualizing the data"
   ]
  },
  {
   "cell_type": "markdown",
   "metadata": {},
   "source": [
    "##### sorting based on first name of students"
   ]
  },
  {
   "cell_type": "code",
   "execution_count": 36,
   "metadata": {},
   "outputs": [
    {
     "data": {
      "text/html": [
       "<div>\n",
       "<style scoped>\n",
       "    .dataframe tbody tr th:only-of-type {\n",
       "        vertical-align: middle;\n",
       "    }\n",
       "\n",
       "    .dataframe tbody tr th {\n",
       "        vertical-align: top;\n",
       "    }\n",
       "\n",
       "    .dataframe thead th {\n",
       "        text-align: right;\n",
       "    }\n",
       "</style>\n",
       "<table border=\"1\" class=\"dataframe\">\n",
       "  <thead>\n",
       "    <tr style=\"text-align: right;\">\n",
       "      <th></th>\n",
       "      <th>student_id</th>\n",
       "      <th>first_name</th>\n",
       "      <th>last_name</th>\n",
       "      <th>date_of_birth</th>\n",
       "      <th>gender</th>\n",
       "      <th>address</th>\n",
       "      <th>phone_number</th>\n",
       "      <th>email</th>\n",
       "      <th>enrollment_date</th>\n",
       "      <th>department_id</th>\n",
       "      <th>attendance_percent</th>\n",
       "      <th>grade_percent</th>\n",
       "    </tr>\n",
       "  </thead>\n",
       "  <tbody>\n",
       "    <tr>\n",
       "      <th>43</th>\n",
       "      <td>44</td>\n",
       "      <td>Aadhya</td>\n",
       "      <td>Kapoor</td>\n",
       "      <td>2001-11-15</td>\n",
       "      <td>Female</td>\n",
       "      <td>987 Birch St, Lakeside</td>\n",
       "      <td>+918765432109</td>\n",
       "      <td>aadhya.kapoor@example.com</td>\n",
       "      <td>2022-09-01</td>\n",
       "      <td>5</td>\n",
       "      <td>93.0</td>\n",
       "      <td>86.0</td>\n",
       "    </tr>\n",
       "    <tr>\n",
       "      <th>27</th>\n",
       "      <td>28</td>\n",
       "      <td>Aadi</td>\n",
       "      <td>Sharma</td>\n",
       "      <td>2002-06-20</td>\n",
       "      <td>Male</td>\n",
       "      <td>654 Elm St, Riverside</td>\n",
       "      <td>+918765432109</td>\n",
       "      <td>aadi.sharma@example.com</td>\n",
       "      <td>2022-09-01</td>\n",
       "      <td>4</td>\n",
       "      <td>99.0</td>\n",
       "      <td>91.0</td>\n",
       "    </tr>\n",
       "    <tr>\n",
       "      <th>24</th>\n",
       "      <td>25</td>\n",
       "      <td>Aanya</td>\n",
       "      <td>Joshi</td>\n",
       "      <td>2001-07-08</td>\n",
       "      <td>Female</td>\n",
       "      <td>321 Oak St, Townsville</td>\n",
       "      <td>+918765432109</td>\n",
       "      <td>aanya.joshi@example.com</td>\n",
       "      <td>2022-09-01</td>\n",
       "      <td>1</td>\n",
       "      <td>96.0</td>\n",
       "      <td>88.0</td>\n",
       "    </tr>\n",
       "    <tr>\n",
       "      <th>39</th>\n",
       "      <td>40</td>\n",
       "      <td>Aanya</td>\n",
       "      <td>Das</td>\n",
       "      <td>2001-08-15</td>\n",
       "      <td>Female</td>\n",
       "      <td>456 Elm St, Townsville</td>\n",
       "      <td>+919012345678</td>\n",
       "      <td>aanya.das@example.com</td>\n",
       "      <td>2022-09-01</td>\n",
       "      <td>1</td>\n",
       "      <td>89.0</td>\n",
       "      <td>82.0</td>\n",
       "    </tr>\n",
       "    <tr>\n",
       "      <th>22</th>\n",
       "      <td>23</td>\n",
       "      <td>Aaradhya</td>\n",
       "      <td>Shah</td>\n",
       "      <td>2000-10-18</td>\n",
       "      <td>Female</td>\n",
       "      <td>234 Elm St, Sunset</td>\n",
       "      <td>+919012345678</td>\n",
       "      <td>aaradhya.shah@example.com</td>\n",
       "      <td>2022-09-01</td>\n",
       "      <td>4</td>\n",
       "      <td>94.0</td>\n",
       "      <td>86.0</td>\n",
       "    </tr>\n",
       "  </tbody>\n",
       "</table>\n",
       "</div>"
      ],
      "text/plain": [
       "    student_id first_name last_name date_of_birth  gender  \\\n",
       "43          44     Aadhya    Kapoor    2001-11-15  Female   \n",
       "27          28       Aadi    Sharma    2002-06-20    Male   \n",
       "24          25      Aanya     Joshi    2001-07-08  Female   \n",
       "39          40      Aanya       Das    2001-08-15  Female   \n",
       "22          23   Aaradhya      Shah    2000-10-18  Female   \n",
       "\n",
       "                   address   phone_number                      email  \\\n",
       "43  987 Birch St, Lakeside  +918765432109  aadhya.kapoor@example.com   \n",
       "27   654 Elm St, Riverside  +918765432109    aadi.sharma@example.com   \n",
       "24  321 Oak St, Townsville  +918765432109    aanya.joshi@example.com   \n",
       "39  456 Elm St, Townsville  +919012345678      aanya.das@example.com   \n",
       "22      234 Elm St, Sunset  +919012345678  aaradhya.shah@example.com   \n",
       "\n",
       "   enrollment_date  department_id  attendance_percent  grade_percent  \n",
       "43      2022-09-01              5                93.0           86.0  \n",
       "27      2022-09-01              4                99.0           91.0  \n",
       "24      2022-09-01              1                96.0           88.0  \n",
       "39      2022-09-01              1                89.0           82.0  \n",
       "22      2022-09-01              4                94.0           86.0  "
      ]
     },
     "execution_count": 36,
     "metadata": {},
     "output_type": "execute_result"
    }
   ],
   "source": [
    "students_data.sort_values(by='first_name', ascending=True).head()"
   ]
  },
  {
   "cell_type": "markdown",
   "metadata": {},
   "source": [
    "####  Using group by for getting department wise student count "
   ]
  },
  {
   "cell_type": "code",
   "execution_count": 22,
   "metadata": {},
   "outputs": [
    {
     "name": "stdout",
     "output_type": "stream",
     "text": [
      "   department_id  student_count\n",
      "0              1             22\n",
      "1              2             22\n",
      "2              3             21\n",
      "3              4             23\n",
      "4              5             18\n"
     ]
    },
    {
     "data": {
      "image/png": "[encoded data removed]",
      "text/plain": [
       "<Figure size 720x432 with 1 Axes>"
      ]
     },
     "metadata": {
      "needs_background": "light"
     },
     "output_type": "display_data"
    }
   ],
   "source": [
    "cursor.execute('SELECT department_id, COUNT(*) AS student_count FROM students GROUP BY department_id;')\n",
    "# Fetch the data and store it into a Pandas DataFrame\n",
    "studentCount_data = pd.DataFrame(cursor.fetchall(), columns=[desc[0] for desc in cursor.description])\n",
    "\n",
    "# Convert DataFrame to a DataFrame object\n",
    "studentCount_data = pd.DataFrame(studentCount_data)\n",
    "print(studentCount_data)\n",
    "plt.figure(figsize=(10, 6))\n",
    "plt.bar(studentCount_data['department_id'], studentCount_data['student_count'], color='skyblue')\n",
    "plt.xlabel('Department ID')\n",
    "plt.ylabel('Student Count')\n",
    "plt.title('Student Count per Department')\n",
    "plt.xticks(studentCount_data['department_id'], rotation=0)\n",
    "plt.tight_layout()\n",
    "plt.show()"
   ]
  },
  {
   "cell_type": "markdown",
   "metadata": {},
   "source": [
    "From above graph we can say that department 4 i.e., Mechanical engineering is having more number of students."
   ]
  },
  {
   "cell_type": "markdown",
   "metadata": {},
   "source": [
    "#### Count of number of students in each course"
   ]
  },
  {
   "cell_type": "code",
   "execution_count": 21,
   "metadata": {},
   "outputs": [
    {
     "name": "stdout",
     "output_type": "stream",
     "text": [
      "    course_id  num_students\n",
      "0           1             5\n",
      "1           2             5\n",
      "2           3             5\n",
      "3           4             5\n",
      "4           5             5\n",
      "5           6             5\n",
      "6           7             4\n",
      "7           8             4\n",
      "8           9             4\n",
      "9          10             4\n",
      "10         11             4\n",
      "11         12             4\n",
      "12         13             4\n",
      "13         14             4\n",
      "14         15             4\n",
      "15         16             4\n",
      "16         17             4\n",
      "17         18             4\n",
      "18         19             4\n",
      "19         20             4\n",
      "20         21             4\n",
      "21         22             4\n",
      "22         23             4\n",
      "23         24             4\n",
      "24         25             4\n"
     ]
    },
    {
     "data": {
      "image/png": "[encoded data removed]",
      "text/plain": [
       "<Figure size 720x504 with 1 Axes>"
      ]
     },
     "metadata": {},
     "output_type": "display_data"
    }
   ],
   "source": [
    "cursor.execute('SELECT course_id, COUNT(student_id) AS num_students FROM Enrollments GROUP BY course_id;')\n",
    "# Fetch the data and store it into a Pandas DataFrame\n",
    "enrollCount_data = pd.DataFrame(cursor.fetchall(), columns=[desc[0] for desc in cursor.description])\n",
    "\n",
    "# Convert DataFrame to a DataFrame object\n",
    "enrollCount_data = pd.DataFrame(enrollCount_data)\n",
    "print(enrollCount_data)\n",
    "plt.figure(figsize=(10, 7))\n",
    "plt.pie(enrollCount_data['num_students'], labels=enrollCount_data['course_id'], autopct='%1.1f%%', startangle=140)\n",
    "plt.title('Number of Students Enrolled in Each Course')\n",
    "plt.axis('equal')  # Equal aspect ratio ensures that pie is drawn as a circle.\n",
    "plt.show()"
   ]
  },
  {
   "cell_type": "markdown",
   "metadata": {},
   "source": [
    "It is clear that the courses 1,2,3,4,5,6 are having more number of students."
   ]
  },
  {
   "cell_type": "markdown",
   "metadata": {},
   "source": [
    "#### Getting count of female and male students"
   ]
  },
  {
   "cell_type": "code",
   "execution_count": 19,
   "metadata": {},
   "outputs": [
    {
     "name": "stdout",
     "output_type": "stream",
     "text": [
      "   gender  num_students\n",
      "0  Female            51\n",
      "1    Male            55\n"
     ]
    },
    {
     "data": {
      "image/png": "[encoded data removed]",
      "text/plain": [
       "<Figure size 576x432 with 1 Axes>"
      ]
     },
     "metadata": {
      "needs_background": "light"
     },
     "output_type": "display_data"
    }
   ],
   "source": [
    "cursor.execute('SELECT gender, COUNT(*) AS num_students FROM Students GROUP BY gender;')\n",
    "# Fetch the data and store it into a Pandas DataFrame\n",
    "genderCount = pd.DataFrame(cursor.fetchall(), columns=[desc[0] for desc in cursor.description])\n",
    "\n",
    "# Convert DataFrame to a DataFrame object\n",
    "genderCount = pd.DataFrame(genderCount)\n",
    "\n",
    "print(genderCount)\n",
    "plt.figure(figsize=(8, 6))\n",
    "plt.bar(genderCount['gender'], genderCount['num_students'], color=['blue', 'green'])\n",
    "plt.xlabel('Gender')\n",
    "plt.ylabel('Number of Students')\n",
    "plt.title('Distribution of Students by Gender')\n",
    "plt.show()\n",
    "\n"
   ]
  },
  {
   "cell_type": "markdown",
   "metadata": {},
   "source": [
    "We are having more number of male students."
   ]
  },
  {
   "cell_type": "markdown",
   "metadata": {},
   "source": [
    "#### Department wise courses count"
   ]
  },
  {
   "cell_type": "code",
   "execution_count": 11,
   "metadata": {},
   "outputs": [
    {
     "name": "stdout",
     "output_type": "stream",
     "text": [
      "   department_id  course_count\n",
      "0              1             5\n",
      "1              2             5\n",
      "2              3             5\n",
      "3              4             5\n",
      "4              5             5\n"
     ]
    }
   ],
   "source": [
    "cursor.execute('SELECT department_id, COUNT(*) AS course_count FROM courses GROUP BY department_id;')\n",
    "# Fetch the data and store it into a Pandas DataFrame\n",
    "courseCount_data = pd.DataFrame(cursor.fetchall(), columns=[desc[0] for desc in cursor.description])\n",
    "\n",
    "# Convert DataFrame to a DataFrame object\n",
    "courseCount_data = pd.DataFrame(courseCount_data)\n",
    "print(courseCount_data)"
   ]
  },
  {
   "cell_type": "code",
   "execution_count": 12,
   "metadata": {},
   "outputs": [
    {
     "data": {
      "image/png": "[encoded data removed]",
      "text/plain": [
       "<Figure size 576x432 with 1 Axes>"
      ]
     },
     "metadata": {},
     "output_type": "display_data"
    }
   ],
   "source": [
    "# Assuming courseCount_data is already fetched and stored in DataFrame\n",
    "labels = courseCount_data['department_id']\n",
    "sizes = courseCount_data['course_count']\n",
    "\n",
    "# Plotting the pie chart\n",
    "plt.figure(figsize=(8, 6))\n",
    "plt.pie(sizes, labels=labels, autopct='%1.1f%%', startangle=140)\n",
    "plt.title('Distribution of Courses by Department')\n",
    "plt.axis('equal')  # Equal aspect ratio ensures the pie chart is circular.\n",
    "plt.show()"
   ]
  },
  {
   "cell_type": "markdown",
   "metadata": {},
   "source": [
    "Each department is having equal number of courses."
   ]
  },
  {
   "cell_type": "markdown",
   "metadata": {},
   "source": [
    "#### Average credits for each course"
   ]
  },
  {
   "cell_type": "code",
   "execution_count": 13,
   "metadata": {},
   "outputs": [
    {
     "name": "stdout",
     "output_type": "stream",
     "text": [
      "    course_id                       course_name avg(credits)\n",
      "0           1  Introduction to Computer Science       4.0000\n",
      "1           2    Data Structures and Algorithms       5.0000\n",
      "2           3       Database Management Systems       4.0000\n",
      "3           4                 Computer Networks       4.0000\n",
      "4           5           Artificial Intelligence       5.0000\n",
      "5           6                  Circuit Analysis       4.0000\n",
      "6           7            Electromagnetic Fields       5.0000\n",
      "7           8               Digital Electronics       4.0000\n",
      "8           9                     Power Systems       5.0000\n",
      "9          10                   Control Systems       4.0000\n",
      "10         11                Analog Electronics       4.0000\n",
      "11         12         Digital Signal Processing       5.0000\n",
      "12         13                  Embedded Systems       4.0000\n",
      "13         14                       VLSI Design       5.0000\n",
      "14         15             Communication Systems       4.0000\n",
      "15         16            Mechanics of Materials       4.0000\n",
      "16         17                    Thermodynamics       5.0000\n",
      "17         18                   Fluid Mechanics       4.0000\n",
      "18         19           Manufacturing Processes       4.0000\n",
      "19         20                    Machine Design       5.0000\n",
      "20         21               Structural Analysis       4.0000\n",
      "21         22          Geotechnical Engineering       5.0000\n",
      "22         23        Transportation Engineering       4.0000\n",
      "23         24         Environmental Engineering       4.0000\n",
      "24         25           Construction Management       5.0000\n"
     ]
    }
   ],
   "source": [
    "cursor.execute('select course_id,course_name,avg(credits) from courses group by course_id; ')\n",
    "# Fetch the data and store it into a Pandas DataFrame\n",
    "avgCredits_data = pd.DataFrame(cursor.fetchall(), columns=[desc[0] for desc in cursor.description])\n",
    "\n",
    "# Convert DataFrame to a DataFrame object\n",
    "avgCredits_data = pd.DataFrame(avgCredits_data)\n",
    "print(avgCredits_data)"
   ]
  },
  {
   "cell_type": "markdown",
   "metadata": {},
   "source": [
    "#### Number of instructors from each department."
   ]
  },
  {
   "cell_type": "code",
   "execution_count": 15,
   "metadata": {},
   "outputs": [
    {
     "name": "stdout",
     "output_type": "stream",
     "text": [
      "   department_id  instructor_count\n",
      "0              1                 3\n",
      "1              2                 3\n",
      "2              3                 3\n",
      "3              4                 3\n",
      "4              5                 3\n"
     ]
    }
   ],
   "source": [
    "cursor.execute('SELECT department_id, COUNT(*) AS instructor_count FROM instructors GROUP BY department_id;')\n",
    "# Fetch the data and store it into a Pandas DataFrame\n",
    "instPerDept_data = pd.DataFrame(cursor.fetchall(), columns=[desc[0] for desc in cursor.description])\n",
    "\n",
    "# Convert DataFrame to a DataFrame object\n",
    "instPerDept_data = pd.DataFrame(instPerDept_data)\n",
    "print(instPerDept_data)"
   ]
  },
  {
   "cell_type": "markdown",
   "metadata": {},
   "source": [
    "#### Department wise average credits"
   ]
  },
  {
   "cell_type": "code",
   "execution_count": 16,
   "metadata": {},
   "outputs": [
    {
     "name": "stdout",
     "output_type": "stream",
     "text": [
      "           department_name average_credits\n",
      "0        Civil Engineering          4.4000\n",
      "1         Computer Science          4.4000\n",
      "2   Electrical Engineering          4.4000\n",
      "3  Electronics Engineering          4.4000\n",
      "4   Mechanical Engineering          4.4000\n"
     ]
    }
   ],
   "source": [
    "cursor.execute('SELECT d.department_name, AVG(c.credits) AS average_credits FROM courses c JOIN departments d ON c.department_id = d.department_id GROUP BY d.department_name ORDER BY d.department_name; ')\n",
    "# Fetch the data and store it into a Pandas DataFrame\n",
    "avgCreditsDept_data = pd.DataFrame(cursor.fetchall(), columns=[desc[0] for desc in cursor.description])\n",
    "\n",
    "# Convert DataFrame to a DataFrame object\n",
    "avgCreditsDept_data = pd.DataFrame(avgCreditsDept_data)\n",
    "print(avgCreditsDept_data)"
   ]
  },
  {
   "cell_type": "markdown",
   "metadata": {},
   "source": [
    "#### Count of students scoring 90 or greater than 90 grade percent."
   ]
  },
  {
   "cell_type": "code",
   "execution_count": 26,
   "metadata": {},
   "outputs": [
    {
     "name": "stdout",
     "output_type": "stream",
     "text": [
      "Number of students scoring >= 90 grade percent: 10\n"
     ]
    },
    {
     "data": {
      "image/png": "[encoded data removed]",
      "text/plain": [
       "<Figure size 432x288 with 1 Axes>"
      ]
     },
     "metadata": {
      "needs_background": "light"
     },
     "output_type": "display_data"
    }
   ],
   "source": [
    "students_above_90 = students_data[students_data['grade_percent'] >= 90]\n",
    "\n",
    "# Count the number of students\n",
    "num_students_above_90 = students_above_90.shape[0]\n",
    "\n",
    "# Display the count\n",
    "print(f\"Number of students scoring >= 90 grade percent: {num_students_above_90}\")\n",
    "grade_counts = students_data['grade_percent'].apply(lambda x: '>= 90' if x >= 90 else '< 90').value_counts()\n",
    "\n",
    "plt.bar(grade_counts.index, grade_counts.values)\n",
    "plt.xlabel('Grade Percent Range')\n",
    "plt.ylabel('Number of Students')\n",
    "plt.title('Distribution of Grade Percent')\n",
    "plt.tight_layout()\n",
    "plt.show()\n",
    "\n"
   ]
  },
  {
   "cell_type": "markdown",
   "metadata": {},
   "source": [
    "#### Count of students scoring less than 75 grade percent"
   ]
  },
  {
   "cell_type": "code",
   "execution_count": 25,
   "metadata": {},
   "outputs": [
    {
     "name": "stdout",
     "output_type": "stream",
     "text": [
      "Number of students scoring < 75 grade percent: 2\n"
     ]
    },
    {
     "data": {
      "image/png": "[encoded data removed]",
      "text/plain": [
       "<Figure size 432x288 with 1 Axes>"
      ]
     },
     "metadata": {
      "needs_background": "light"
     },
     "output_type": "display_data"
    }
   ],
   "source": [
    "students_below_75 = students_data[students_data['grade_percent'] < 75]\n",
    "\n",
    "# Count the number of students\n",
    "num_students_below_75 = students_below_75.shape[0]\n",
    "\n",
    "# Display the count\n",
    "print(f\"Number of students scoring < 75 grade percent: {num_students_below_75}\")\n",
    "\n",
    "# Optionally, you can plot the data using matplotlib\n",
    "# Example: Plot a bar chart showing the count of students above 90 and below 90\n",
    "grade_counts = students_data['grade_percent'].apply(lambda x: '< 75' if x < 75 else '>= 75').value_counts()\n",
    "\n",
    "plt.bar(grade_counts.index, grade_counts.values)\n",
    "plt.xlabel('Grade Percent Range')\n",
    "plt.ylabel('Number of Students')\n",
    "plt.title('Distribution of Grade Percent')\n",
    "plt.tight_layout()\n",
    "plt.show()"
   ]
  },
  {
   "cell_type": "markdown",
   "metadata": {},
   "source": [
    "#### Count of students who are having less than 75 percent of attendance."
   ]
  },
  {
   "cell_type": "code",
   "execution_count": 24,
   "metadata": {},
   "outputs": [
    {
     "name": "stdout",
     "output_type": "stream",
     "text": [
      "Students with attendance less than 75%:\n",
      "Empty DataFrame\n",
      "Columns: [student_id, first_name, last_name, attendance_percent]\n",
      "Index: []\n"
     ]
    },
    {
     "data": {
      "image/png": "[encoded data removed]",
      "text/plain": [
       "<Figure size 432x288 with 1 Axes>"
      ]
     },
     "metadata": {
      "needs_background": "light"
     },
     "output_type": "display_data"
    }
   ],
   "source": [
    "students_below_75_attendance = students_data[students_data['attendance_percent'] < 75]\n",
    "\n",
    "# Display the information\n",
    "print(\"Students with attendance less than 75%:\")\n",
    "print(students_below_75_attendance[['student_id', 'first_name', 'last_name', 'attendance_percent']])\n",
    "\n",
    "# Optionally, you can plot the distribution of attendance using matplotlib\n",
    "plt.hist(students_data['attendance_percent'], bins=10, edgecolor='black')\n",
    "plt.xlabel('Attendance Percent')\n",
    "plt.ylabel('Number of Students')\n",
    "plt.title('Distribution of Attendance Percent')\n",
    "plt.axvline(x=75, color='red', linestyle='--', label='75% Attendance')\n",
    "plt.legend()\n",
    "plt.tight_layout()\n",
    "plt.show()"
   ]
  },
  {
   "cell_type": "markdown",
   "metadata": {},
   "source": [
    "#### Plotting graph of attendance VS grade percent"
   ]
  },
  {
   "cell_type": "code",
   "execution_count": 23,
   "metadata": {},
   "outputs": [
    {
     "data": {
      "image/png": "[encoded data removed]",
      "text/plain": [
       "<Figure size 720x432 with 1 Axes>"
      ]
     },
     "metadata": {
      "needs_background": "light"
     },
     "output_type": "display_data"
    }
   ],
   "source": [
    "plt.figure(figsize=(10, 6))\n",
    "plt.scatter(students_data['attendance_percent'], students_data['grade_percent'], alpha=0.5)\n",
    "plt.title('Attendance Percent vs Grade Percent')\n",
    "plt.xlabel('Attendance Percent')\n",
    "plt.ylabel('Grade Percent')\n",
    "plt.grid(True)\n",
    "plt.tight_layout()\n",
    "plt.show()"
   ]
  },
  {
   "cell_type": "markdown",
   "metadata": {},
   "source": [
    "#### Department wise average attendance"
   ]
  },
  {
   "cell_type": "code",
   "execution_count": 16,
   "metadata": {},
   "outputs": [
    {
     "name": "stdout",
     "output_type": "stream",
     "text": [
      "   department_id  avg_attendance\n",
      "0              1       90.409091\n",
      "1              2       91.363636\n",
      "2              3       90.238095\n",
      "3              4       90.521739\n",
      "4              5       92.722222\n"
     ]
    },
    {
     "data": {
      "image/png": "[encoded data removed]",
      "text/plain": [
       "<Figure size 720x432 with 1 Axes>"
      ]
     },
     "metadata": {
      "needs_background": "light"
     },
     "output_type": "display_data"
    }
   ],
   "source": [
    "cursor.execute('SELECT department_id, AVG(attendance_Percent) AS avg_attendance FROM Students GROUP BY department_id; ')\n",
    "# Fetch the data and store it into a Pandas DataFrame\n",
    "avgAttendance_data = pd.DataFrame(cursor.fetchall(), columns=[desc[0] for desc in cursor.description])\n",
    "\n",
    "# Convert DataFrame to a DataFrame object\n",
    "avgAttendance_data = pd.DataFrame(avgAttendance_data)\n",
    "print(avgAttendance_data)\n",
    "plt.figure(figsize=(10, 6))\n",
    "plt.bar(avgAttendance_data['department_id'], avgAttendance_data['avg_attendance'], color='blue')\n",
    "plt.xlabel('Department ID')\n",
    "plt.ylabel('Average Attendance Percentage')\n",
    "plt.title('Average Attendance Percentage per Department')\n",
    "plt.xticks(avgAttendance_data['department_id'])\n",
    "plt.tight_layout()\n",
    "plt.show()"
   ]
  },
  {
   "cell_type": "markdown",
   "metadata": {},
   "source": [
    "The students from department 5 i.e., Civil are maintaining good attendance percentage"
   ]
  },
  {
   "cell_type": "code",
   "execution_count": 29,
   "metadata": {},
   "outputs": [
    {
     "name": "stdout",
     "output_type": "stream",
     "text": [
      "The department scoring the highest grade percent is: Civil Engineering\n",
      "Average Grade Percent: 84.00\n"
     ]
    }
   ],
   "source": [
    "\n",
    "merged_df = pd.merge(students_data, departments_data, on='department_id', how='inner')\n",
    "\n",
    "# Grouping by department_name and calculating average grade_percent\n",
    "department_avg_grade = merged_df.groupby('department_name')['grade_percent'].mean().reset_index()\n",
    "\n",
    "# Finding department with highest average grade_percent\n",
    "highest_avg_grade_dept = department_avg_grade.loc[department_avg_grade['grade_percent'].idxmax()]\n",
    "\n",
    "# Displaying the department with highest average grade_percent\n",
    "print(f\"The department scoring the highest grade percent is: {highest_avg_grade_dept['department_name']}\")\n",
    "print(f\"Average Grade Percent: {highest_avg_grade_dept['grade_percent']:.2f}\")\n"
   ]
  },
  {
   "cell_type": "markdown",
   "metadata": {},
   "source": [
    "Here we are getting information of department with highest average percent in the next table we can get all departments grade percent and come to know which is having higher and lower grade percent through graph."
   ]
  },
  {
   "cell_type": "code",
   "execution_count": 34,
   "metadata": {},
   "outputs": [
    {
     "name": "stdout",
     "output_type": "stream",
     "text": [
      "           department_name  grade_percent\n",
      "0        Civil Engineering      84.000000\n",
      "1         Computer Science      81.909091\n",
      "2   Electrical Engineering      81.738095\n",
      "3  Electronics Engineering      83.454545\n",
      "4   Mechanical Engineering      82.869565\n"
     ]
    },
    {
     "data": {
      "image/png": "[encoded data removed]",
      "text/plain": [
       "<Figure size 720x432 with 1 Axes>"
      ]
     },
     "metadata": {
      "needs_background": "light"
     },
     "output_type": "display_data"
    }
   ],
   "source": [
    "merged_df = pd.merge(students_data, departments_data, on='department_id', how='inner')\n",
    "\n",
    "# Grouping by department_name and calculating average grade_percent\n",
    "department_avg_grade = merged_df.groupby('department_name')['grade_percent'].mean().reset_index()\n",
    "\n",
    "# Displaying average grade percent for every department\n",
    "print(department_avg_grade)\n",
    "department_avg_grade = pd.DataFrame(department_avg_grade)\n",
    "\n",
    "# Plotting the graph\n",
    "plt.figure(figsize=(10, 6))\n",
    "plt.bar(department_avg_grade['department_name'], department_avg_grade['grade_percent'], color='skyblue')\n",
    "plt.xlabel('Departments')\n",
    "plt.ylabel('Average Grade Percent')\n",
    "plt.title('Average Grade Percent per Department')\n",
    "plt.ylim(0, 100)  # Set y-axis limit if needed\n",
    "plt.xticks(rotation=45)  # Rotate x-axis labels for better visibility if needed\n",
    "plt.grid(axis='y', linestyle='--', alpha=0.7)\n",
    "plt.tight_layout()\n",
    "plt.show()\n",
    "\n",
    "\n",
    "\n",
    "\n",
    "\n"
   ]
  },
  {
   "cell_type": "markdown",
   "metadata": {},
   "source": [
    "\n",
    "Electrical enginnering is scoring less grade percent."
   ]
  },
  {
   "cell_type": "markdown",
   "metadata": {},
   "source": [
    "## CONCLUSION\n",
    "From the above tables and graphs the institutes are able to fetch the information of students  easily according to their requirements in different situations and are able to take actions on studies of students based on their performance."
   ]
  },
  {
   "cell_type": "code",
   "execution_count": null,
   "metadata": {},
   "outputs": [],
   "source": []
  }
 ],
 "metadata": {
  "kernelspec": {
   "display_name": "Python 3",
   "language": "python",
   "name": "python3"
  },
  "language_info": {
   "codemirror_mode": {
    "name": "ipython",
    "version": 3
   },
   "file_extension": ".py",
   "mimetype": "text/x-python",
   "name": "python",
   "nbconvert_exporter": "python",
   "pygments_lexer": "ipython3",
   "version": "3.7.6"
  }
 },
 "nbformat": 4,
 "nbformat_minor": 4
}
